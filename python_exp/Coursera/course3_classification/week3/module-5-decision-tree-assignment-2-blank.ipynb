{
 "cells": [
  {
   "cell_type": "markdown",
   "metadata": {},
   "source": [
    "## Implementing binary decision trees"
   ]
  },
  {
   "cell_type": "markdown",
   "metadata": {},
   "source": [
    "The goal of this notebook is to implement your own binary decision tree classifier. You will:\n",
    "    \n",
    "* Use SFrames to do some feature engineering.\n",
    "* Transform categorical variables into binary variables.\n",
    "* Write a function to compute the number of misclassified examples in an intermediate node.\n",
    "* Write a function to find the best feature to split on.\n",
    "* Build a binary decision tree from scratch.\n",
    "* Make predictions using the decision tree.\n",
    "* Evaluate the accuracy of the decision tree.\n",
    "* Visualize the decision at the root node.\n",
    "\n",
    "**Important Note**: In this assignment, we will focus on building decision trees where the data contain **only binary (0 or 1) features**. This allows us to avoid dealing with:\n",
    "* Multiple intermediate nodes in a split\n",
    "* The thresholding issues of real-valued features.\n",
    "\n",
    "This assignment **may be challenging**, so brace yourself :)"
   ]
  },
  {
   "cell_type": "markdown",
   "metadata": {},
   "source": [
    "# Fire up GraphLab Create"
   ]
  },
  {
   "cell_type": "markdown",
   "metadata": {},
   "source": [
    "Make sure you have the latest version of GraphLab Create."
   ]
  },
  {
   "cell_type": "code",
   "execution_count": 2,
   "metadata": {
    "collapsed": false,
    "scrolled": false
   },
   "outputs": [],
   "source": [
    "import graphlab"
   ]
  },
  {
   "cell_type": "markdown",
   "metadata": {
    "collapsed": true
   },
   "source": [
    "# Load the lending club dataset"
   ]
  },
  {
   "cell_type": "markdown",
   "metadata": {},
   "source": [
    "We will be using the same [LendingClub](https://www.lendingclub.com/) dataset as in the previous assignment."
   ]
  },
  {
   "cell_type": "code",
   "execution_count": 3,
   "metadata": {
    "collapsed": false
   },
   "outputs": [
    {
     "name": "stderr",
     "output_type": "stream",
     "text": [
      "[INFO] graphlab.cython.cy_server: GraphLab Create v2.1 started. Logging: /tmp/graphlab_server_1489218488.log\n"
     ]
    },
    {
     "name": "stdout",
     "output_type": "stream",
     "text": [
      "This non-commercial license of GraphLab Create for academic use is assigned to fjs1996@njtech.edu.cn and will expire on December 05, 2017.\n"
     ]
    }
   ],
   "source": [
    "loans = graphlab.SFrame('lending-club-data.gl/')"
   ]
  },
  {
   "cell_type": "markdown",
   "metadata": {},
   "source": [
    "Like the previous assignment, we reassign the labels to have +1 for a safe loan, and -1 for a risky (bad) loan."
   ]
  },
  {
   "cell_type": "code",
   "execution_count": 4,
   "metadata": {
    "collapsed": false
   },
   "outputs": [],
   "source": [
    "loans['safe_loans'] = loans['bad_loans'].apply(lambda x : +1 if x==0 else -1)\n",
    "loans = loans.remove_column('bad_loans')"
   ]
  },
  {
   "cell_type": "markdown",
   "metadata": {},
   "source": [
    "Unlike the previous assignment where we used several features, in this assignment, we will just be using 4 categorical\n",
    "features: \n",
    "\n",
    "1. grade of the loan \n",
    "2. the length of the loan term\n",
    "3. the home ownership status: own, mortgage, rent\n",
    "4. number of years of employment.\n",
    "\n",
    "Since we are building a binary decision tree, we will have to convert these categorical features to a binary representation in a subsequent section using 1-hot encoding."
   ]
  },
  {
   "cell_type": "code",
   "execution_count": 5,
   "metadata": {
    "collapsed": false,
    "scrolled": false
   },
   "outputs": [],
   "source": [
    "features = ['grade',              # grade of the loan\n",
    "            'term',               # the term of the loan\n",
    "            'home_ownership',     # home_ownership status: own, mortgage or rent\n",
    "            'emp_length',         # number of years of employment\n",
    "           ]\n",
    "target = 'safe_loans'\n",
    "loans = loans[features + [target]]"
   ]
  },
  {
   "cell_type": "markdown",
   "metadata": {},
   "source": [
    "Let's explore what the dataset looks like."
   ]
  },
  {
   "cell_type": "code",
   "execution_count": 6,
   "metadata": {
    "collapsed": false
   },
   "outputs": [
    {
     "data": {
      "text/html": [
       "<div style=\"max-height:1000px;max-width:1500px;overflow:auto;\"><table frame=\"box\" rules=\"cols\">\n",
       "    <tr>\n",
       "        <th style=\"padding-left: 1em; padding-right: 1em; text-align: center\">grade</th>\n",
       "        <th style=\"padding-left: 1em; padding-right: 1em; text-align: center\">term</th>\n",
       "        <th style=\"padding-left: 1em; padding-right: 1em; text-align: center\">home_ownership</th>\n",
       "        <th style=\"padding-left: 1em; padding-right: 1em; text-align: center\">emp_length</th>\n",
       "        <th style=\"padding-left: 1em; padding-right: 1em; text-align: center\">safe_loans</th>\n",
       "    </tr>\n",
       "    <tr>\n",
       "        <td style=\"padding-left: 1em; padding-right: 1em; text-align: center; vertical-align: top\">B</td>\n",
       "        <td style=\"padding-left: 1em; padding-right: 1em; text-align: center; vertical-align: top\"> 36 months</td>\n",
       "        <td style=\"padding-left: 1em; padding-right: 1em; text-align: center; vertical-align: top\">RENT</td>\n",
       "        <td style=\"padding-left: 1em; padding-right: 1em; text-align: center; vertical-align: top\">10+ years</td>\n",
       "        <td style=\"padding-left: 1em; padding-right: 1em; text-align: center; vertical-align: top\">1</td>\n",
       "    </tr>\n",
       "    <tr>\n",
       "        <td style=\"padding-left: 1em; padding-right: 1em; text-align: center; vertical-align: top\">C</td>\n",
       "        <td style=\"padding-left: 1em; padding-right: 1em; text-align: center; vertical-align: top\"> 60 months</td>\n",
       "        <td style=\"padding-left: 1em; padding-right: 1em; text-align: center; vertical-align: top\">RENT</td>\n",
       "        <td style=\"padding-left: 1em; padding-right: 1em; text-align: center; vertical-align: top\">&lt; 1 year</td>\n",
       "        <td style=\"padding-left: 1em; padding-right: 1em; text-align: center; vertical-align: top\">-1</td>\n",
       "    </tr>\n",
       "    <tr>\n",
       "        <td style=\"padding-left: 1em; padding-right: 1em; text-align: center; vertical-align: top\">C</td>\n",
       "        <td style=\"padding-left: 1em; padding-right: 1em; text-align: center; vertical-align: top\"> 36 months</td>\n",
       "        <td style=\"padding-left: 1em; padding-right: 1em; text-align: center; vertical-align: top\">RENT</td>\n",
       "        <td style=\"padding-left: 1em; padding-right: 1em; text-align: center; vertical-align: top\">10+ years</td>\n",
       "        <td style=\"padding-left: 1em; padding-right: 1em; text-align: center; vertical-align: top\">1</td>\n",
       "    </tr>\n",
       "    <tr>\n",
       "        <td style=\"padding-left: 1em; padding-right: 1em; text-align: center; vertical-align: top\">C</td>\n",
       "        <td style=\"padding-left: 1em; padding-right: 1em; text-align: center; vertical-align: top\"> 36 months</td>\n",
       "        <td style=\"padding-left: 1em; padding-right: 1em; text-align: center; vertical-align: top\">RENT</td>\n",
       "        <td style=\"padding-left: 1em; padding-right: 1em; text-align: center; vertical-align: top\">10+ years</td>\n",
       "        <td style=\"padding-left: 1em; padding-right: 1em; text-align: center; vertical-align: top\">1</td>\n",
       "    </tr>\n",
       "    <tr>\n",
       "        <td style=\"padding-left: 1em; padding-right: 1em; text-align: center; vertical-align: top\">A</td>\n",
       "        <td style=\"padding-left: 1em; padding-right: 1em; text-align: center; vertical-align: top\"> 36 months</td>\n",
       "        <td style=\"padding-left: 1em; padding-right: 1em; text-align: center; vertical-align: top\">RENT</td>\n",
       "        <td style=\"padding-left: 1em; padding-right: 1em; text-align: center; vertical-align: top\">3 years</td>\n",
       "        <td style=\"padding-left: 1em; padding-right: 1em; text-align: center; vertical-align: top\">1</td>\n",
       "    </tr>\n",
       "    <tr>\n",
       "        <td style=\"padding-left: 1em; padding-right: 1em; text-align: center; vertical-align: top\">E</td>\n",
       "        <td style=\"padding-left: 1em; padding-right: 1em; text-align: center; vertical-align: top\"> 36 months</td>\n",
       "        <td style=\"padding-left: 1em; padding-right: 1em; text-align: center; vertical-align: top\">RENT</td>\n",
       "        <td style=\"padding-left: 1em; padding-right: 1em; text-align: center; vertical-align: top\">9 years</td>\n",
       "        <td style=\"padding-left: 1em; padding-right: 1em; text-align: center; vertical-align: top\">1</td>\n",
       "    </tr>\n",
       "    <tr>\n",
       "        <td style=\"padding-left: 1em; padding-right: 1em; text-align: center; vertical-align: top\">F</td>\n",
       "        <td style=\"padding-left: 1em; padding-right: 1em; text-align: center; vertical-align: top\"> 60 months</td>\n",
       "        <td style=\"padding-left: 1em; padding-right: 1em; text-align: center; vertical-align: top\">OWN</td>\n",
       "        <td style=\"padding-left: 1em; padding-right: 1em; text-align: center; vertical-align: top\">4 years</td>\n",
       "        <td style=\"padding-left: 1em; padding-right: 1em; text-align: center; vertical-align: top\">-1</td>\n",
       "    </tr>\n",
       "    <tr>\n",
       "        <td style=\"padding-left: 1em; padding-right: 1em; text-align: center; vertical-align: top\">B</td>\n",
       "        <td style=\"padding-left: 1em; padding-right: 1em; text-align: center; vertical-align: top\"> 60 months</td>\n",
       "        <td style=\"padding-left: 1em; padding-right: 1em; text-align: center; vertical-align: top\">RENT</td>\n",
       "        <td style=\"padding-left: 1em; padding-right: 1em; text-align: center; vertical-align: top\">&lt; 1 year</td>\n",
       "        <td style=\"padding-left: 1em; padding-right: 1em; text-align: center; vertical-align: top\">-1</td>\n",
       "    </tr>\n",
       "    <tr>\n",
       "        <td style=\"padding-left: 1em; padding-right: 1em; text-align: center; vertical-align: top\">C</td>\n",
       "        <td style=\"padding-left: 1em; padding-right: 1em; text-align: center; vertical-align: top\"> 60 months</td>\n",
       "        <td style=\"padding-left: 1em; padding-right: 1em; text-align: center; vertical-align: top\">OWN</td>\n",
       "        <td style=\"padding-left: 1em; padding-right: 1em; text-align: center; vertical-align: top\">5 years</td>\n",
       "        <td style=\"padding-left: 1em; padding-right: 1em; text-align: center; vertical-align: top\">1</td>\n",
       "    </tr>\n",
       "    <tr>\n",
       "        <td style=\"padding-left: 1em; padding-right: 1em; text-align: center; vertical-align: top\">B</td>\n",
       "        <td style=\"padding-left: 1em; padding-right: 1em; text-align: center; vertical-align: top\"> 36 months</td>\n",
       "        <td style=\"padding-left: 1em; padding-right: 1em; text-align: center; vertical-align: top\">OWN</td>\n",
       "        <td style=\"padding-left: 1em; padding-right: 1em; text-align: center; vertical-align: top\">10+ years</td>\n",
       "        <td style=\"padding-left: 1em; padding-right: 1em; text-align: center; vertical-align: top\">1</td>\n",
       "    </tr>\n",
       "</table>\n",
       "[122607 rows x 5 columns]<br/>Note: Only the head of the SFrame is printed.<br/>You can use print_rows(num_rows=m, num_columns=n) to print more rows and columns.\n",
       "</div>"
      ],
      "text/plain": [
       "Columns:\n",
       "\tgrade\tstr\n",
       "\tterm\tstr\n",
       "\thome_ownership\tstr\n",
       "\temp_length\tstr\n",
       "\tsafe_loans\tint\n",
       "\n",
       "Rows: 122607\n",
       "\n",
       "Data:\n",
       "+-------+------------+----------------+------------+------------+\n",
       "| grade |    term    | home_ownership | emp_length | safe_loans |\n",
       "+-------+------------+----------------+------------+------------+\n",
       "|   B   |  36 months |      RENT      | 10+ years  |     1      |\n",
       "|   C   |  60 months |      RENT      |  < 1 year  |     -1     |\n",
       "|   C   |  36 months |      RENT      | 10+ years  |     1      |\n",
       "|   C   |  36 months |      RENT      | 10+ years  |     1      |\n",
       "|   A   |  36 months |      RENT      |  3 years   |     1      |\n",
       "|   E   |  36 months |      RENT      |  9 years   |     1      |\n",
       "|   F   |  60 months |      OWN       |  4 years   |     -1     |\n",
       "|   B   |  60 months |      RENT      |  < 1 year  |     -1     |\n",
       "|   C   |  60 months |      OWN       |  5 years   |     1      |\n",
       "|   B   |  36 months |      OWN       | 10+ years  |     1      |\n",
       "+-------+------------+----------------+------------+------------+\n",
       "[122607 rows x 5 columns]\n",
       "Note: Only the head of the SFrame is printed.\n",
       "You can use print_rows(num_rows=m, num_columns=n) to print more rows and columns."
      ]
     },
     "execution_count": 6,
     "metadata": {},
     "output_type": "execute_result"
    }
   ],
   "source": [
    "loans"
   ]
  },
  {
   "cell_type": "markdown",
   "metadata": {},
   "source": [
    "## Subsample dataset to make sure classes are balanced"
   ]
  },
  {
   "cell_type": "markdown",
   "metadata": {},
   "source": [
    "Just as we did in the previous assignment, we will undersample the larger class (safe loans) in order to balance out our dataset. This means we are throwing away many data points. We use `seed=1` so everyone gets the same results."
   ]
  },
  {
   "cell_type": "code",
   "execution_count": 7,
   "metadata": {
    "collapsed": false
   },
   "outputs": [
    {
     "name": "stdout",
     "output_type": "stream",
     "text": [
      "Percentage of safe loans                 : 0.502236174422\n",
      "Percentage of risky loans                : 0.497763825578\n",
      "Total number of loans in our new dataset : 46508\n"
     ]
    }
   ],
   "source": [
    "safe_loans_raw = loans[loans[target] == 1]\n",
    "risky_loans_raw = loans[loans[target] == -1]\n",
    "\n",
    "# Since there are less risky loans than safe loans, find the ratio of the sizes\n",
    "# and use that percentage to undersample the safe loans.\n",
    "percentage = len(risky_loans_raw)/float(len(safe_loans_raw))\n",
    "safe_loans = safe_loans_raw.sample(percentage, seed = 1)\n",
    "risky_loans = risky_loans_raw\n",
    "loans_data = risky_loans.append(safe_loans)\n",
    "\n",
    "print \"Percentage of safe loans                 :\", len(safe_loans) / float(len(loans_data))\n",
    "print \"Percentage of risky loans                :\", len(risky_loans) / float(len(loans_data))\n",
    "print \"Total number of loans in our new dataset :\", len(loans_data)"
   ]
  },
  {
   "cell_type": "markdown",
   "metadata": {},
   "source": [
    "**Note:** There are many approaches for dealing with imbalanced data, including some where we modify the learning algorithm. These approaches are beyond the scope of this course, but some of them are reviewed in \"[Learning from Imbalanced Data](http://www.ele.uri.edu/faculty/he/PDFfiles/ImbalancedLearning.pdf)\" by Haibo He and Edwardo A. Garcia, *IEEE Transactions on Knowledge and Data Engineering* **21**(9) (June 26, 2009), p. 1263–1284. For this assignment, we use the simplest possible approach, where we subsample the overly represented class to get a more balanced dataset. In general, and especially when the data is highly imbalanced, we recommend using more advanced methods."
   ]
  },
  {
   "cell_type": "markdown",
   "metadata": {},
   "source": [
    "## Transform categorical data into binary features"
   ]
  },
  {
   "cell_type": "markdown",
   "metadata": {},
   "source": [
    "In this assignment, we will implement **binary decision trees** (decision trees for binary features, a specific case of categorical variables taking on two values, e.g., true/false). Since all of our features are currently categorical features, we want to turn them into binary features. \n",
    "\n",
    "For instance, the **home_ownership** feature represents the home ownership status of the loanee, which is either `own`, `mortgage` or `rent`. For example, if a data point has the feature \n",
    "```\n",
    "   {'home_ownership': 'RENT'}\n",
    "```\n",
    "we want to turn this into three features: \n",
    "```\n",
    " { \n",
    "   'home_ownership = OWN'      : 0, \n",
    "   'home_ownership = MORTGAGE' : 0, \n",
    "   'home_ownership = RENT'     : 1\n",
    " }\n",
    "```\n",
    "\n",
    "Since this code requires a few Python and GraphLab tricks, feel free to use this block of code as is. Refer to the API documentation for a deeper understanding."
   ]
  },
  {
   "cell_type": "code",
   "execution_count": 8,
   "metadata": {
    "collapsed": false
   },
   "outputs": [],
   "source": [
    "loans_data = risky_loans.append(safe_loans)\n",
    "for feature in features:\n",
    "    loans_data_one_hot_encoded = loans_data[feature].apply(lambda x: {x: 1})    \n",
    "    loans_data_unpacked = loans_data_one_hot_encoded.unpack(column_name_prefix=feature)\n",
    "    \n",
    "    # Change None's to 0's\n",
    "    for column in loans_data_unpacked.column_names():\n",
    "        loans_data_unpacked[column] = loans_data_unpacked[column].fillna(0)\n",
    "\n",
    "    loans_data.remove_column(feature)\n",
    "    loans_data.add_columns(loans_data_unpacked)"
   ]
  },
  {
   "cell_type": "markdown",
   "metadata": {},
   "source": [
    "Let's see what the feature columns look like now:"
   ]
  },
  {
   "cell_type": "code",
   "execution_count": 9,
   "metadata": {
    "collapsed": false
   },
   "outputs": [
    {
     "data": {
      "text/plain": [
       "['grade.A',\n",
       " 'grade.B',\n",
       " 'grade.C',\n",
       " 'grade.D',\n",
       " 'grade.E',\n",
       " 'grade.F',\n",
       " 'grade.G',\n",
       " 'term. 36 months',\n",
       " 'term. 60 months',\n",
       " 'home_ownership.MORTGAGE',\n",
       " 'home_ownership.OTHER',\n",
       " 'home_ownership.OWN',\n",
       " 'home_ownership.RENT',\n",
       " 'emp_length.1 year',\n",
       " 'emp_length.10+ years',\n",
       " 'emp_length.2 years',\n",
       " 'emp_length.3 years',\n",
       " 'emp_length.4 years',\n",
       " 'emp_length.5 years',\n",
       " 'emp_length.6 years',\n",
       " 'emp_length.7 years',\n",
       " 'emp_length.8 years',\n",
       " 'emp_length.9 years',\n",
       " 'emp_length.< 1 year',\n",
       " 'emp_length.n/a']"
      ]
     },
     "execution_count": 9,
     "metadata": {},
     "output_type": "execute_result"
    }
   ],
   "source": [
    "features = loans_data.column_names()\n",
    "features.remove('safe_loans')  # Remove the response variable\n",
    "features"
   ]
  },
  {
   "cell_type": "code",
   "execution_count": 10,
   "metadata": {
    "collapsed": false
   },
   "outputs": [
    {
     "name": "stdout",
     "output_type": "stream",
     "text": [
      "Number of features (after binarizing categorical variables) = 25\n"
     ]
    }
   ],
   "source": [
    "print \"Number of features (after binarizing categorical variables) = %s\" % len(features)"
   ]
  },
  {
   "cell_type": "markdown",
   "metadata": {},
   "source": [
    "Let's explore what one of these columns looks like:"
   ]
  },
  {
   "cell_type": "code",
   "execution_count": 11,
   "metadata": {
    "collapsed": false
   },
   "outputs": [
    {
     "data": {
      "text/plain": [
       "dtype: int\n",
       "Rows: 46508\n",
       "[0, 0, 0, 0, 0, 0, 0, 0, 0, 1, 0, 0, 0, 0, 0, 0, 0, 0, 0, 0, 0, 0, 0, 1, 0, 0, 0, 0, 1, 0, 0, 0, 0, 0, 0, 0, 0, 0, 0, 0, 0, 0, 0, 0, 0, 0, 1, 0, 0, 1, 0, 0, 0, 0, 0, 0, 0, 0, 0, 1, 0, 0, 1, 0, 1, 0, 0, 1, 0, 0, 0, 0, 0, 0, 0, 0, 0, 1, 0, 1, 0, 0, 0, 0, 0, 0, 1, 0, 0, 0, 0, 0, 0, 1, 1, 0, 0, 0, 1, 0, ... ]"
      ]
     },
     "execution_count": 11,
     "metadata": {},
     "output_type": "execute_result"
    }
   ],
   "source": [
    "loans_data['grade.A']"
   ]
  },
  {
   "cell_type": "markdown",
   "metadata": {},
   "source": [
    "This column is set to 1 if the loan grade is A and 0 otherwise.\n",
    "\n",
    "**Checkpoint:** Make sure the following answers match up."
   ]
  },
  {
   "cell_type": "code",
   "execution_count": 12,
   "metadata": {
    "collapsed": false
   },
   "outputs": [
    {
     "name": "stdout",
     "output_type": "stream",
     "text": [
      "Total number of grade.A loans : 6422\n",
      "Expexted answer               : 6422\n"
     ]
    }
   ],
   "source": [
    "print \"Total number of grade.A loans : %s\" % loans_data['grade.A'].sum()\n",
    "print \"Expexted answer               : 6422\""
   ]
  },
  {
   "cell_type": "markdown",
   "metadata": {},
   "source": [
    "## Train-test split\n",
    "\n",
    "We split the data into a train test split with 80% of the data in the training set and 20% of the data in the test set. We use `seed=1` so that everyone gets the same result."
   ]
  },
  {
   "cell_type": "code",
   "execution_count": 13,
   "metadata": {
    "collapsed": true
   },
   "outputs": [],
   "source": [
    "train_data, test_data = loans_data.random_split(.8, seed=1)"
   ]
  },
  {
   "cell_type": "markdown",
   "metadata": {},
   "source": [
    "# Decision tree implementation"
   ]
  },
  {
   "cell_type": "markdown",
   "metadata": {},
   "source": [
    "In this section, we will implement binary decision trees from scratch. There are several steps involved in building a decision tree. For that reason, we have split the entire assignment into several sections.\n",
    "\n",
    "## Function to count number of mistakes while predicting majority class\n",
    "\n",
    "Recall from the lecture that prediction at an intermediate node works by predicting the **majority class** for all data points that belong to this node.\n",
    "\n",
    "Now, we will write a function that calculates the number of **missclassified examples** when predicting the **majority class**. This will be used to help determine which feature is the best to split on at a given node of the tree.\n",
    "\n",
    "**Note**: Keep in mind that in order to compute the number of mistakes for a majority classifier, we only need the label (y values) of the data points in the node. \n",
    "\n",
    "** Steps to follow **:\n",
    "* ** Step 1:** Calculate the number of safe loans and risky loans.\n",
    "* ** Step 2:** Since we are assuming majority class prediction, all the data points that are **not** in the majority class are considered **mistakes**.\n",
    "* ** Step 3:** Return the number of **mistakes**.\n",
    "\n",
    "\n",
    "Now, let us write the function `intermediate_node_num_mistakes` which computes the number of misclassified examples of an intermediate node given the set of labels (y values) of the data points contained in the node. Fill in the places where you find `## YOUR CODE HERE`. There are **three** places in this function for you to fill in."
   ]
  },
  {
   "cell_type": "code",
   "execution_count": 129,
   "metadata": {
    "collapsed": false
   },
   "outputs": [],
   "source": [
    "def intermediate_node_num_mistakes(labels_in_node):\n",
    "    # Corner case: If labels_in_node is empty, return 0\n",
    "    if len(labels_in_node) == 0:\n",
    "        return 0\n",
    "    \n",
    "    # Count the number of 1's (safe loans)\n",
    "    ## YOUR CODE HERE\n",
    "    num_safe_loans = list(labels_in_node).count(1)\n",
    "    \n",
    "    # Count the number of -1's (risky loans)\n",
    "    ## YOUR CODE HERE\n",
    "    num_risky_loans = list(labels_in_node).count(-1)\n",
    "    # Return the number of mistakes that the majority classifier makes.\n",
    "    ## YOUR CODE HERE\n",
    "    if(num_safe_loans >= num_risky_loans):\n",
    "        return num_risky_loans \n",
    "    else:\n",
    "        return num_safe_loans "
   ]
  },
  {
   "cell_type": "markdown",
   "metadata": {},
   "source": [
    "Because there are several steps in this assignment, we have introduced some stopping points where you can check your code and make sure it is correct before proceeding. To test your `intermediate_node_num_mistakes` function, run the following code until you get a **Test passed!**, then you should proceed. Otherwise, you should spend some time figuring out where things went wrong."
   ]
  },
  {
   "cell_type": "code",
   "execution_count": 130,
   "metadata": {
    "collapsed": false
   },
   "outputs": [
    {
     "name": "stdout",
     "output_type": "stream",
     "text": [
      "Test passed!\n",
      "Test passed!\n",
      "Test passed!\n"
     ]
    }
   ],
   "source": [
    "# Test case 1\n",
    "example_labels = graphlab.SArray([-1, -1, 1, 1, 1])\n",
    "if intermediate_node_num_mistakes(example_labels) == 2:\n",
    "    print 'Test passed!'\n",
    "else:\n",
    "    print 'Test 1 failed... try again!'\n",
    "\n",
    "# Test case 2\n",
    "example_labels = graphlab.SArray([-1, -1, 1, 1, 1, 1, 1])\n",
    "if intermediate_node_num_mistakes(example_labels) == 2:\n",
    "    print 'Test passed!'\n",
    "else:\n",
    "    print 'Test 2 failed... try again!'\n",
    "    \n",
    "# Test case 3\n",
    "example_labels = graphlab.SArray([-1, -1, -1, -1, -1, 1, 1])\n",
    "if intermediate_node_num_mistakes(example_labels) == 2:\n",
    "    print 'Test passed!'\n",
    "else:\n",
    "    print 'Test 3 failed... try again!'"
   ]
  },
  {
   "cell_type": "markdown",
   "metadata": {},
   "source": [
    "## Function to pick best feature to split on"
   ]
  },
  {
   "cell_type": "markdown",
   "metadata": {},
   "source": [
    "The function **best_splitting_feature** takes 3 arguments: \n",
    "1. The data (SFrame of data which includes all of the feature columns and label column)\n",
    "2. The features to consider for splits (a list of strings of column names to consider for splits)\n",
    "3. The name of the target/label column (string)\n",
    "\n",
    "The function will loop through the list of possible features, and consider splitting on each of them. It will calculate the classification error of each split and return the feature that had the smallest classification error when split on.\n",
    "\n",
    "Recall that the **classification error** is defined as follows:\n",
    "$$\n",
    "\\mbox{classification error} = \\frac{\\mbox{# mistakes}}{\\mbox{# total examples}}\n",
    "$$\n",
    "\n",
    "Follow these steps: \n",
    "* **Step 1:** Loop over each feature in the feature list\n",
    "* **Step 2:** Within the loop, split the data into two groups: one group where all of the data has feature value 0 or False (we will call this the **left** split), and one group where all of the data has feature value 1 or True (we will call this the **right** split). Make sure the **left** split corresponds with 0 and the **right** split corresponds with 1 to ensure your implementation fits with our implementation of the tree building process.\n",
    "* **Step 3:** Calculate the number of misclassified examples in both groups of data and use the above formula to compute the **classification error**.\n",
    "* **Step 4:** If the computed error is smaller than the best error found so far, store this **feature and its error**.\n",
    "\n",
    "This may seem like a lot, but we have provided pseudocode in the comments in order to help you implement the function correctly.\n",
    "\n",
    "**Note:** Remember that since we are only dealing with binary features, we do not have to consider thresholds for real-valued features. This makes the implementation of this function much easier.\n",
    "\n",
    "Fill in the places where you find `## YOUR CODE HERE`. There are **five** places in this function for you to fill in."
   ]
  },
  {
   "cell_type": "code",
   "execution_count": 144,
   "metadata": {
    "collapsed": false
   },
   "outputs": [],
   "source": [
    "def best_splitting_feature(data, features, target):\n",
    "    \n",
    "    best_feature = None # Keep track of the best feature \n",
    "    best_error = 10     # Keep track of the best error so far \n",
    "    # Note: Since error is always <= 1, we should intialize it with something larger than 1.\n",
    "\n",
    "    # Convert to float to make sure error gets computed correctly.\n",
    "    num_data_points = float(len(data[target]))  \n",
    "    print '********', num_data_points\n",
    "    \n",
    "    # Loop through each feature to consider splitting on that feature\n",
    "    for feature in features:\n",
    "        \n",
    "        # The left split will have all data points where the feature value is 0\n",
    "        left_split = data[data[feature] == 0]\n",
    "        \n",
    "        # The right split will have all data points where the feature value is 1\n",
    "        ## YOUR CODE HERE\n",
    "        right_split = data[data[feature] == 1]\n",
    "        print len(left_split) , 'dddddd',len(right_split)\n",
    "        # Calculate the number of misclassified examples in the left split.\n",
    "        # Remember that we implemented a function for this! (It was called intermediate_node_num_mistakes)\n",
    "        # YOUR CODE HERE\n",
    "        left_mistakes = float(intermediate_node_num_mistakes(left_split[target])) \n",
    "#         print '----------',len(left_split[target])\n",
    "#         print '=======',list(left_split[target]).count(-1)\n",
    "#         print left_mistakes\n",
    "        \n",
    "        # Calculate the number of misclassified examples in the right split.\n",
    "        ## YOUR CODE HERE\n",
    "        right_mistakes = float(intermediate_node_num_mistakes(right_split[target]))\n",
    "        print '----------',len(right_split[target])\n",
    "#         print right_mistakes\n",
    "        # Compute the classification error of this split.\n",
    "        # Error = (# of mistakes (left) + # of mistakes (right)) / (# of data points)\n",
    "        ## YOUR CODE HERE\n",
    "        error = (right_mistakes + left_mistakes) / num_data_points\n",
    "        print right_mistakes + left_mistakes\n",
    "        print error\n",
    "        # If this is the best error we have found so far, store the feature as best_feature and the error as best_error\n",
    "        ## YOUR CODE HERE\n",
    "        if error <= best_error:\n",
    "            best_error = error\n",
    "            best_feature = feature\n",
    "    print best_feature\n",
    "    return best_feature # Return the best feature we found"
   ]
  },
  {
   "cell_type": "markdown",
   "metadata": {},
   "source": [
    "To test your `best_splitting_feature` function, run the following code:"
   ]
  },
  {
   "cell_type": "code",
   "execution_count": 145,
   "metadata": {
    "collapsed": false
   },
   "outputs": [
    {
     "name": "stdout",
     "output_type": "stream",
     "text": [
      "******** 37224.0\n",
      "32094 dddddd 5130\n",
      "---------- 5130\n",
      "16134.0\n",
      "0.433430045132\n",
      "26858 dddddd 10366\n",
      "---------- 10366\n",
      "17068.0\n",
      "0.458521384053\n",
      "27812 dddddd 9412\n",
      "---------- 9412\n",
      "18060.0\n",
      "0.485170857511\n",
      "30465 dddddd 6759\n",
      "---------- 6759\n",
      "17083.0\n",
      "0.458924349882\n",
      "33815 dddddd 3409\n",
      "---------- 3409\n",
      "17269.0\n",
      "0.463921126155\n",
      "35512 dddddd 1712\n",
      "---------- 1712\n",
      "17688.0\n",
      "0.475177304965\n",
      "36788 dddddd 436\n",
      "---------- 436\n",
      "18258.0\n",
      "0.490490006447\n",
      "9223 dddddd 28001\n",
      "---------- 28001\n",
      "15695.0\n",
      "0.421636578551\n",
      "28001 dddddd 9223\n",
      "---------- 9223\n",
      "15695.0\n",
      "0.421636578551\n",
      "19846 dddddd 17378\n",
      "---------- 17378\n",
      "17396.0\n",
      "0.467332903503\n",
      "37163 dddddd 61\n",
      "---------- 61\n",
      "18471.0\n",
      "0.496212121212\n",
      "34149 dddddd 3075\n",
      "---------- 3075\n",
      "18431.0\n",
      "0.495137545669\n",
      "20514 dddddd 16710\n",
      "---------- 16710\n",
      "17446.0\n",
      "0.468676122931\n",
      "34624 dddddd 2600\n",
      "---------- 2600\n",
      "18476.0\n",
      "0.496346443155\n",
      "26901 dddddd 10323\n",
      "---------- 10323\n",
      "18476.0\n",
      "0.496346443155\n",
      "33652 dddddd 3572\n",
      "---------- 3572\n",
      "18476.0\n",
      "0.496346443155\n",
      "34099 dddddd 3125\n",
      "---------- 3125\n",
      "18476.0\n",
      "0.496346443155\n",
      "34593 dddddd 2631\n",
      "---------- 2631\n",
      "18476.0\n",
      "0.496346443155\n",
      "34347 dddddd 2877\n",
      "---------- 2877\n",
      "18476.0\n",
      "0.496346443155\n",
      "34905 dddddd 2319\n",
      "---------- 2319\n",
      "18413.0\n",
      "0.494653986675\n",
      "35196 dddddd 2028\n",
      "---------- 2028\n",
      "18406.0\n",
      "0.494465935955\n",
      "35607 dddddd 1617\n",
      "---------- 1617\n",
      "18471.0\n",
      "0.496212121212\n",
      "35889 dddddd 1335\n",
      "---------- 1335\n",
      "18476.0\n",
      "0.496346443155\n",
      "33870 dddddd 3354\n",
      "---------- 3354\n",
      "18476.0\n",
      "0.496346443155\n",
      "35781 dddddd 1443\n",
      "---------- 1443\n",
      "18149.0\n",
      "0.487561788094\n",
      "term. 60 months\n",
      "Test failed... try again!\n"
     ]
    }
   ],
   "source": [
    "if best_splitting_feature(train_data, features, 'safe_loans') == 'term. 36 months':\n",
    "    print 'Test passed!'\n",
    "else:\n",
    "    print 'Test failed... try again!'"
   ]
  },
  {
   "cell_type": "markdown",
   "metadata": {},
   "source": [
    "## Building the tree\n",
    "\n",
    "With the above functions implemented correctly, we are now ready to build our decision tree. Each node in the decision tree is represented as a dictionary which contains the following keys and possible values:\n",
    "\n",
    "    { \n",
    "       'is_leaf'            : True/False.\n",
    "       'prediction'         : Prediction at the leaf node.\n",
    "       'left'               : (dictionary corresponding to the left tree).\n",
    "       'right'              : (dictionary corresponding to the right tree).\n",
    "       'splitting_feature'  : The feature that this node splits on.\n",
    "    }\n",
    "\n",
    "First, we will write a function that creates a leaf node given a set of target values. Fill in the places where you find `## YOUR CODE HERE`. There are **three** places in this function for you to fill in."
   ]
  },
  {
   "cell_type": "code",
   "execution_count": 134,
   "metadata": {
    "collapsed": false
   },
   "outputs": [],
   "source": [
    "def create_leaf(target_values):\n",
    "    \n",
    "    # Create a leaf node\n",
    "    leaf = {'splitting_feature' : None,\n",
    "            'left' : None,\n",
    "            'right' : None,\n",
    "            'is_leaf':True     }   ## YOUR CODE HERE\n",
    "    \n",
    "    # Count the number of data points that are +1 and -1 in this node.\n",
    "    num_ones = len(target_values[target_values == +1])\n",
    "    num_minus_ones = len(target_values[target_values == -1])\n",
    "    \n",
    "    # For the leaf node, set the prediction to be the majority class.\n",
    "    # Store the predicted class (1 or -1) in leaf['prediction']\n",
    "    if num_ones > num_minus_ones:\n",
    "        leaf['prediction'] = 1         ## YOUR CODE HERE\n",
    "    else:\n",
    "        leaf['prediction'] = -1       ## YOUR CODE HERE\n",
    "        \n",
    "    # Return the leaf node        \n",
    "    return leaf "
   ]
  },
  {
   "cell_type": "markdown",
   "metadata": {},
   "source": [
    "We have provided a function that learns the decision tree recursively and implements 3 stopping conditions:\n",
    "1. **Stopping condition 1:** All data points in a node are from the same class.\n",
    "2. **Stopping condition 2:** No more features to split on.\n",
    "3. **Additional stopping condition:** In addition to the above two stopping conditions covered in lecture, in this assignment we will also consider a stopping condition based on the **max_depth** of the tree. By not letting the tree grow too deep, we will save computational effort in the learning process. \n",
    "\n",
    "Now, we will write down the skeleton of the learning algorithm. Fill in the places where you find `## YOUR CODE HERE`. There are **seven** places in this function for you to fill in."
   ]
  },
  {
   "cell_type": "code",
   "execution_count": 135,
   "metadata": {
    "collapsed": false
   },
   "outputs": [],
   "source": [
    "def decision_tree_create(data, features, target, current_depth = 0, max_depth = 10):\n",
    "    remaining_features = features[:] # Make a copy of the features.\n",
    "    \n",
    "    target_values = data[target]\n",
    "    print \"--------------------------------------------------------------------\"\n",
    "    print \"Subtree, depth = %s (%s data points).\" % (current_depth, len(target_values))\n",
    "    \n",
    "\n",
    "    # Stopping condition 1\n",
    "    # (Check if there are mistakes at current node.\n",
    "    # Recall you wrote a function intermediate_node_num_mistakes to compute this.)\n",
    "    if intermediate_node_num_mistakes(target_values) == 0:  ## YOUR CODE HERE\n",
    "        print \"Stopping condition 1 reached.\"     \n",
    "        # If not mistakes at current node, make current node a leaf node\n",
    "        return create_leaf(target_values)\n",
    "    \n",
    "    # Stopping condition 2 (check if there are remaining features to consider splitting on)\n",
    "    if remaining_features == 0:   ## YOUR CODE HERE\n",
    "        print \"Stopping condition 2 reached.\"    \n",
    "        # If there are no remaining features to consider, make current node a leaf node\n",
    "        return create_leaf(target_values)    \n",
    "    \n",
    "    # Additional stopping condition (limit tree depth)\n",
    "    if current_depth >= max_depth:  ## YOUR CODE HERE\n",
    "        print \"Reached maximum depth. Stopping for now.\"\n",
    "        # If the max tree depth has been reached, make current node a leaf node\n",
    "        return create_leaf(target_values)\n",
    "\n",
    "    # Find the best splitting feature (recall the function best_splitting_feature implemented above)\n",
    "    ## YOUR CODE HERE\n",
    "    splitting_feature = best_splitting_feature(data,features,target)\n",
    "    \n",
    "    # Split on the best feature that we found. \n",
    "    left_split = data[data[splitting_feature] == 0]\n",
    "    right_split = data[data[splitting_feature] != 0]      ## YOUR CODE HERE\n",
    "    remaining_features.remove(splitting_feature)\n",
    "    print \"Split on feature %s. (%s, %s)\" % (\\\n",
    "                      splitting_feature, len(left_split), len(right_split))\n",
    "    \n",
    "    # Create a leaf node if the split is \"perfect\"\n",
    "    if len(left_split) == len(data):\n",
    "        print \"Creating leaf node.\"\n",
    "        return create_leaf(left_split[target])\n",
    "    if len(right_split) == len(data):\n",
    "        print \"Creating leaf node.\"\n",
    "        ## YOUR CODE HERE\n",
    "        return create_leaf(right_split[target])\n",
    "        \n",
    "    # Repeat (recurse) on left and right subtrees\n",
    "    left_tree = decision_tree_create(left_split, remaining_features, target, current_depth + 1, max_depth)        \n",
    "    ## YOUR CODE HERE\n",
    "    right_tree = decision_tree_create(right_split, remaining_features, target, current_depth + 1, max_depth)\n",
    "\n",
    "    return {'is_leaf'          : False, \n",
    "            'prediction'       : None,\n",
    "            'splitting_feature': splitting_feature,\n",
    "            'left'             : left_tree, \n",
    "            'right'            : right_tree}"
   ]
  },
  {
   "cell_type": "markdown",
   "metadata": {},
   "source": [
    "Here is a recursive function to count the nodes in your tree:"
   ]
  },
  {
   "cell_type": "code",
   "execution_count": 136,
   "metadata": {
    "collapsed": false
   },
   "outputs": [],
   "source": [
    "def count_nodes(tree):\n",
    "    if tree['is_leaf']:\n",
    "        return 1\n",
    "    return 1 + count_nodes(tree['left']) + count_nodes(tree['right'])"
   ]
  },
  {
   "cell_type": "markdown",
   "metadata": {},
   "source": [
    "Run the following test code to check your implementation. Make sure you get **'Test passed'** before proceeding."
   ]
  },
  {
   "cell_type": "code",
   "execution_count": 137,
   "metadata": {
    "collapsed": false
   },
   "outputs": [
    {
     "name": "stdout",
     "output_type": "stream",
     "text": [
      "--------------------------------------------------------------------\n",
      "Subtree, depth = 0 (37224 data points).\n",
      "******** 37224.0\n",
      "---------- 32094\n",
      "======= 17218\n",
      "14876.0\n",
      "16134.0\n",
      "0.433430045132\n",
      "---------- 26858\n",
      "======= 14133\n",
      "12725.0\n",
      "17068.0\n",
      "0.458521384053\n",
      "---------- 27812\n",
      "======= 13562\n",
      "13562.0\n",
      "18060.0\n",
      "0.485170857511\n",
      "---------- 30465\n",
      "======= 14400\n",
      "14400.0\n",
      "17083.0\n",
      "0.458924349882\n",
      "---------- 33815\n",
      "======= 16168\n",
      "16168.0\n",
      "17269.0\n",
      "0.463921126155\n",
      "---------- 35512\n",
      "======= 17226\n",
      "17226.0\n",
      "17688.0\n",
      "0.475177304965\n",
      "---------- 36788\n",
      "======= 18149\n",
      "18149.0\n",
      "18258.0\n",
      "0.490490006447\n",
      "---------- 9223\n",
      "======= 6002\n",
      "3221.0\n",
      "15695.0\n",
      "0.421636578551\n",
      "---------- 28001\n",
      "======= 12474\n",
      "12474.0\n",
      "15695.0\n",
      "0.421636578551\n",
      "---------- 19846\n",
      "======= 10463\n",
      "9383.0\n",
      "17396.0\n",
      "0.467332903503\n",
      "---------- 37163\n",
      "======= 18443\n",
      "18443.0\n",
      "18471.0\n",
      "0.496212121212\n",
      "---------- 34149\n",
      "======= 16916\n",
      "16916.0\n",
      "18431.0\n",
      "0.495137545669\n",
      "---------- 20514\n",
      "======= 9606\n",
      "9606.0\n",
      "17446.0\n",
      "0.468676122931\n",
      "---------- 34624\n",
      "======= 17190\n",
      "17190.0\n",
      "18476.0\n",
      "0.496346443155\n",
      "---------- 26901\n",
      "======= 13417\n",
      "13417.0\n",
      "18476.0\n",
      "0.496346443155\n",
      "---------- 33652\n",
      "======= 16766\n",
      "16766.0\n",
      "18476.0\n",
      "0.496346443155\n",
      "---------- 34099\n",
      "======= 16967\n",
      "16967.0\n",
      "18476.0\n",
      "0.496346443155\n",
      "---------- 34593\n",
      "======= 17258\n",
      "17258.0\n",
      "18476.0\n",
      "0.496346443155\n",
      "---------- 34347\n",
      "======= 17041\n",
      "17041.0\n",
      "18476.0\n",
      "0.496346443155\n",
      "---------- 34905\n",
      "======= 17285\n",
      "17285.0\n",
      "18413.0\n",
      "0.494653986675\n",
      "---------- 35196\n",
      "======= 17427\n",
      "17427.0\n",
      "18406.0\n",
      "0.494465935955\n",
      "---------- 35607\n",
      "======= 17665\n",
      "17665.0\n",
      "18471.0\n",
      "0.496212121212\n",
      "---------- 35889\n",
      "======= 17811\n",
      "17811.0\n",
      "18476.0\n",
      "0.496346443155\n",
      "---------- 33870\n",
      "======= 16818\n",
      "16818.0\n",
      "18476.0\n",
      "0.496346443155\n",
      "---------- 35781\n",
      "======= 17591\n",
      "17591.0\n",
      "18149.0\n",
      "0.487561788094\n",
      "term. 60 months\n",
      "Split on feature term. 60 months. (28001, 9223)\n",
      "--------------------------------------------------------------------\n",
      "Subtree, depth = 1 (28001 data points).\n",
      "******** 28001.0\n",
      "---------- 22972\n",
      "======= 11255\n",
      "11255.0\n",
      "12474.0\n",
      "0.445484089854\n",
      "---------- 18683\n",
      "======= 8718\n",
      "8718.0\n",
      "12474.0\n",
      "0.445484089854\n",
      "---------- 20779\n",
      "======= 8836\n",
      "8836.0\n",
      "12420.0\n",
      "0.4435555873\n",
      "---------- 23300\n",
      "======= 9733\n",
      "9733.0\n",
      "11693.0\n",
      "0.417592228849\n",
      "---------- 26725\n",
      "======= 11675\n",
      "11675.0\n",
      "12152.0\n",
      "0.433984500554\n",
      "---------- 27643\n",
      "======= 12224\n",
      "12224.0\n",
      "12332.0\n",
      "0.440412842398\n",
      "---------- 27904\n",
      "======= 12403\n",
      "12403.0\n",
      "12429.0\n",
      "0.443877004393\n",
      "---------- 0\n",
      "======= 0\n",
      "0.0\n",
      "12474.0\n",
      "0.445484089854\n",
      "---------- 15752\n",
      "======= 7623\n",
      "7623.0\n",
      "12474.0\n",
      "0.445484089854\n",
      "---------- 27943\n",
      "======= 12443\n",
      "12443.0\n",
      "12470.0\n",
      "0.445341237813\n",
      "---------- 25643\n",
      "======= 11392\n",
      "11392.0\n",
      "12474.0\n",
      "0.445484089854\n",
      "---------- 14665\n",
      "======= 5964\n",
      "5964.0\n",
      "12474.0\n",
      "0.445484089854\n",
      "---------- 25925\n",
      "======= 11536\n",
      "11536.0\n",
      "12474.0\n",
      "0.445484089854\n",
      "---------- 20793\n",
      "======= 9391\n",
      "9391.0\n",
      "12474.0\n",
      "0.445484089854\n",
      "---------- 25200\n",
      "======= 11256\n",
      "11256.0\n",
      "12474.0\n",
      "0.445484089854\n",
      "---------- 25557\n",
      "======= 11409\n",
      "11409.0\n",
      "12474.0\n",
      "0.445484089854\n",
      "---------- 25946\n",
      "======= 11624\n",
      "11624.0\n",
      "12474.0\n",
      "0.445484089854\n",
      "---------- 25839\n",
      "======= 11497\n",
      "11497.0\n",
      "12474.0\n",
      "0.445484089854\n",
      "---------- 26240\n",
      "======= 11668\n",
      "11668.0\n",
      "12474.0\n",
      "0.445484089854\n",
      "---------- 26524\n",
      "======= 11785\n",
      "11785.0\n",
      "12474.0\n",
      "0.445484089854\n",
      "---------- 26812\n",
      "======= 11943\n",
      "11943.0\n",
      "12474.0\n",
      "0.445484089854\n",
      "---------- 27054\n",
      "======= 12072\n",
      "12072.0\n",
      "12474.0\n",
      "0.445484089854\n",
      "---------- 25337\n",
      "======= 11273\n",
      "11273.0\n",
      "12474.0\n",
      "0.445484089854\n",
      "---------- 26784\n",
      "======= 11760\n",
      "11760.0\n",
      "12263.0\n",
      "0.437948644691\n",
      "grade.D\n",
      "Split on feature grade.D. (23300, 4701)\n",
      "--------------------------------------------------------------------\n",
      "Subtree, depth = 2 (23300 data points).\n",
      "******** 23300.0\n",
      "---------- 18271\n",
      "======= 8514\n",
      "8514.0\n",
      "9733.0\n",
      "0.417725321888\n",
      "---------- 13982\n",
      "======= 5977\n",
      "5977.0\n",
      "9733.0\n",
      "0.417725321888\n",
      "---------- 16078\n",
      "======= 6095\n",
      "6095.0\n",
      "9679.0\n",
      "0.415407725322\n",
      "---------- 22024\n",
      "======= 8934\n",
      "8934.0\n",
      "9411.0\n",
      "0.403905579399\n",
      "---------- 22942\n",
      "======= 9483\n",
      "9483.0\n",
      "9591.0\n",
      "0.411630901288\n",
      "---------- 23203\n",
      "======= 9662\n",
      "9662.0\n",
      "9688.0\n",
      "0.415793991416\n",
      "---------- 0\n",
      "======= 0\n",
      "0.0\n",
      "9733.0\n",
      "0.417725321888\n",
      "---------- 12705\n",
      "======= 5755\n",
      "5755.0\n",
      "9733.0\n",
      "0.417725321888\n",
      "---------- 23252\n",
      "======= 9709\n",
      "9709.0\n",
      "9733.0\n",
      "0.417725321888\n",
      "---------- 21346\n",
      "======= 8907\n",
      "8907.0\n",
      "9733.0\n",
      "0.417725321888\n",
      "---------- 12597\n",
      "======= 4828\n",
      "4828.0\n",
      "9733.0\n",
      "0.417725321888\n",
      "---------- 21583\n",
      "======= 9010\n",
      "9010.0\n",
      "9733.0\n",
      "0.417725321888\n",
      "---------- 17261\n",
      "======= 7315\n",
      "7315.0\n",
      "9733.0\n",
      "0.417725321888\n",
      "---------- 20978\n",
      "======= 8789\n",
      "8789.0\n",
      "9733.0\n",
      "0.417725321888\n",
      "---------- 21283\n",
      "======= 8913\n",
      "8913.0\n",
      "9733.0\n",
      "0.417725321888\n",
      "---------- 21572\n",
      "======= 9073\n",
      "9073.0\n",
      "9733.0\n",
      "0.417725321888\n",
      "---------- 21505\n",
      "======= 8960\n",
      "8960.0\n",
      "9733.0\n",
      "0.417725321888\n",
      "---------- 21831\n",
      "======= 9113\n",
      "9113.0\n",
      "9733.0\n",
      "0.417725321888\n",
      "---------- 22100\n",
      "======= 9204\n",
      "9204.0\n",
      "9733.0\n",
      "0.417725321888\n",
      "---------- 22314\n",
      "======= 9321\n",
      "9321.0\n",
      "9733.0\n",
      "0.417725321888\n",
      "---------- 22505\n",
      "======= 9411\n",
      "9411.0\n",
      "9733.0\n",
      "0.417725321888\n",
      "---------- 21078\n",
      "======= 8793\n",
      "8793.0\n",
      "9733.0\n",
      "0.417725321888\n",
      "---------- 22290\n",
      "======= 9161\n",
      "9161.0\n",
      "9599.0\n",
      "0.411974248927\n",
      "grade.E\n",
      "Split on feature grade.E. (22024, 1276)\n",
      "--------------------------------------------------------------------\n",
      "Subtree, depth = 3 (22024 data points).\n",
      "Reached maximum depth. Stopping for now.\n",
      "--------------------------------------------------------------------\n",
      "Subtree, depth = 3 (1276 data points).\n",
      "Reached maximum depth. Stopping for now.\n",
      "--------------------------------------------------------------------\n",
      "Subtree, depth = 2 (4701 data points).\n",
      "******** 4701.0\n",
      "---------- 4701\n",
      "======= 2741\n",
      "1960.0\n",
      "1960.0\n",
      "0.416932567539\n",
      "---------- 4701\n",
      "======= 2741\n",
      "1960.0\n",
      "1960.0\n",
      "0.416932567539\n",
      "---------- 4701\n",
      "======= 2741\n",
      "1960.0\n",
      "1960.0\n",
      "0.416932567539\n",
      "---------- 4701\n",
      "======= 2741\n",
      "1960.0\n",
      "1960.0\n",
      "0.416932567539\n",
      "---------- 4701\n",
      "======= 2741\n",
      "1960.0\n",
      "1960.0\n",
      "0.416932567539\n",
      "---------- 4701\n",
      "======= 2741\n",
      "1960.0\n",
      "1960.0\n",
      "0.416932567539\n",
      "---------- 0\n",
      "======= 0\n",
      "0.0\n",
      "1960.0\n",
      "0.416932567539\n",
      "---------- 3047\n",
      "======= 1868\n",
      "1179.0\n",
      "1960.0\n",
      "0.416932567539\n",
      "---------- 4691\n",
      "======= 2734\n",
      "1957.0\n",
      "1960.0\n",
      "0.416932567539\n",
      "---------- 4297\n",
      "======= 2485\n",
      "1812.0\n",
      "1960.0\n",
      "0.416932567539\n",
      "---------- 2068\n",
      "======= 1136\n",
      "932.0\n",
      "1960.0\n",
      "0.416932567539\n",
      "---------- 4342\n",
      "======= 2526\n",
      "1816.0\n",
      "1960.0\n",
      "0.416932567539\n",
      "---------- 3532\n",
      "======= 2076\n",
      "1456.0\n",
      "1960.0\n",
      "0.416932567539\n",
      "---------- 4222\n",
      "======= 2467\n",
      "1755.0\n",
      "1960.0\n",
      "0.416932567539\n",
      "---------- 4274\n",
      "======= 2496\n",
      "1778.0\n",
      "1960.0\n",
      "0.416932567539\n",
      "---------- 4374\n",
      "======= 2551\n",
      "1823.0\n",
      "1960.0\n",
      "0.416932567539\n",
      "---------- 4334\n",
      "======= 2537\n",
      "1797.0\n",
      "1960.0\n",
      "0.416932567539\n",
      "---------- 4409\n",
      "======= 2555\n",
      "1854.0\n",
      "1960.0\n",
      "0.416932567539\n",
      "---------- 4424\n",
      "======= 2581\n",
      "1843.0\n",
      "1960.0\n",
      "0.416932567539\n",
      "---------- 4498\n",
      "======= 2622\n",
      "1876.0\n",
      "1960.0\n",
      "0.416932567539\n",
      "---------- 4549\n",
      "======= 2661\n",
      "1888.0\n",
      "1960.0\n",
      "0.416932567539\n",
      "---------- 4259\n",
      "======= 2480\n",
      "1779.0\n",
      "1960.0\n",
      "0.416932567539\n",
      "---------- 4494\n",
      "======= 2599\n",
      "1895.0\n",
      "1960.0\n",
      "0.416932567539\n",
      "emp_length.n/a\n",
      "Split on feature emp_length.n/a. (4494, 207)\n",
      "--------------------------------------------------------------------\n",
      "Subtree, depth = 3 (4494 data points).\n",
      "Reached maximum depth. Stopping for now.\n",
      "--------------------------------------------------------------------\n",
      "Subtree, depth = 3 (207 data points).\n",
      "Reached maximum depth. Stopping for now.\n",
      "--------------------------------------------------------------------\n",
      "Subtree, depth = 1 (9223 data points).\n",
      "******** 9223.0\n",
      "---------- 9122\n",
      "======= 5963\n",
      "3159.0\n",
      "3198.0\n",
      "0.34674184105\n",
      "---------- 8175\n",
      "======= 5415\n",
      "2760.0\n",
      "3221.0\n",
      "0.349235606636\n",
      "---------- 7033\n",
      "======= 4726\n",
      "2307.0\n",
      "3221.0\n",
      "0.349235606636\n",
      "---------- 7165\n",
      "======= 4667\n",
      "2498.0\n",
      "3221.0\n",
      "0.349235606636\n",
      "---------- 7090\n",
      "======= 4493\n",
      "2597.0\n",
      "3221.0\n",
      "0.349235606636\n",
      "---------- 7869\n",
      "======= 5002\n",
      "2867.0\n",
      "3221.0\n",
      "0.349235606636\n",
      "---------- 8884\n",
      "======= 5746\n",
      "3138.0\n",
      "3221.0\n",
      "0.349235606636\n",
      "---------- 9223\n",
      "======= 6002\n",
      "3221.0\n",
      "3221.0\n",
      "0.349235606636\n",
      "---------- 4094\n",
      "======= 2840\n",
      "1254.0\n",
      "3221.0\n",
      "0.349235606636\n",
      "---------- 9220\n",
      "======= 6000\n",
      "3220.0\n",
      "3221.0\n",
      "0.349235606636\n",
      "---------- 8506\n",
      "======= 5524\n",
      "2982.0\n",
      "3221.0\n",
      "0.349235606636\n",
      "---------- 5849\n",
      "======= 3642\n",
      "2207.0\n",
      "3221.0\n",
      "0.349235606636\n",
      "---------- 8699\n",
      "======= 5654\n",
      "3045.0\n",
      "3221.0\n",
      "0.349235606636\n",
      "---------- 6108\n",
      "======= 4026\n",
      "2082.0\n",
      "3221.0\n",
      "0.349235606636\n",
      "---------- 8452\n",
      "======= 5510\n",
      "2942.0\n",
      "3221.0\n",
      "0.349235606636\n",
      "---------- 8542\n",
      "======= 5558\n",
      "2984.0\n",
      "3221.0\n",
      "0.349235606636\n",
      "---------- 8647\n",
      "======= 5634\n",
      "3013.0\n",
      "3221.0\n",
      "0.349235606636\n",
      "---------- 8508\n",
      "======= 5544\n",
      "2964.0\n",
      "3221.0\n",
      "0.349235606636\n",
      "---------- 8665\n",
      "======= 5617\n",
      "3048.0\n",
      "3221.0\n",
      "0.349235606636\n",
      "---------- 8672\n",
      "======= 5642\n",
      "3030.0\n",
      "3221.0\n",
      "0.349235606636\n",
      "---------- 8795\n",
      "======= 5722\n",
      "3073.0\n",
      "3221.0\n",
      "0.349235606636\n",
      "---------- 8835\n",
      "======= 5739\n",
      "3096.0\n",
      "3221.0\n",
      "0.349235606636\n",
      "---------- 8533\n",
      "======= 5545\n",
      "2988.0\n",
      "3221.0\n",
      "0.349235606636\n",
      "---------- 8997\n",
      "======= 5831\n",
      "3166.0\n",
      "3221.0\n",
      "0.349235606636\n",
      "grade.A\n",
      "Split on feature grade.A. (9122, 101)\n",
      "--------------------------------------------------------------------\n",
      "Subtree, depth = 2 (9122 data points).\n",
      "******** 9122.0\n",
      "---------- 8074\n",
      "======= 5376\n",
      "2698.0\n",
      "3159.0\n",
      "0.346305634729\n",
      "---------- 6932\n",
      "======= 4687\n",
      "2245.0\n",
      "3159.0\n",
      "0.346305634729\n",
      "---------- 7064\n",
      "======= 4628\n",
      "2436.0\n",
      "3159.0\n",
      "0.346305634729\n",
      "---------- 6989\n",
      "======= 4454\n",
      "2535.0\n",
      "3159.0\n",
      "0.346305634729\n",
      "---------- 7768\n",
      "======= 4963\n",
      "2805.0\n",
      "3159.0\n",
      "0.346305634729\n",
      "---------- 8783\n",
      "======= 5707\n",
      "3076.0\n",
      "3159.0\n",
      "0.346305634729\n",
      "---------- 9122\n",
      "======= 5963\n",
      "3159.0\n",
      "3159.0\n",
      "0.346305634729\n",
      "---------- 4058\n",
      "======= 2824\n",
      "1234.0\n",
      "3159.0\n",
      "0.346305634729\n",
      "---------- 9119\n",
      "======= 5961\n",
      "3158.0\n",
      "3159.0\n",
      "0.346305634729\n",
      "---------- 8415\n",
      "======= 5488\n",
      "2927.0\n",
      "3159.0\n",
      "0.346305634729\n",
      "---------- 5774\n",
      "======= 3616\n",
      "2158.0\n",
      "3159.0\n",
      "0.346305634729\n",
      "---------- 8602\n",
      "======= 5617\n",
      "2985.0\n",
      "3159.0\n",
      "0.346305634729\n",
      "---------- 6038\n",
      "======= 3999\n",
      "2039.0\n",
      "3159.0\n",
      "0.346305634729\n",
      "---------- 8359\n",
      "======= 5473\n",
      "2886.0\n",
      "3159.0\n",
      "0.346305634729\n",
      "---------- 8448\n",
      "======= 5522\n",
      "2926.0\n",
      "3159.0\n",
      "0.346305634729\n",
      "---------- 8552\n",
      "======= 5597\n",
      "2955.0\n",
      "3159.0\n",
      "0.346305634729\n",
      "---------- 8415\n",
      "======= 5509\n",
      "2906.0\n",
      "3159.0\n",
      "0.346305634729\n",
      "---------- 8572\n",
      "======= 5581\n",
      "2991.0\n",
      "3159.0\n",
      "0.346305634729\n",
      "---------- 8575\n",
      "======= 5603\n",
      "2972.0\n",
      "3159.0\n",
      "0.346305634729\n",
      "---------- 8702\n",
      "======= 5684\n",
      "3018.0\n",
      "3159.0\n",
      "0.346305634729\n",
      "---------- 8735\n",
      "======= 5700\n",
      "3035.0\n",
      "3159.0\n",
      "0.346305634729\n",
      "---------- 8443\n",
      "======= 5512\n",
      "2931.0\n",
      "3159.0\n",
      "0.346305634729\n",
      "---------- 8901\n",
      "======= 5796\n",
      "3105.0\n",
      "3159.0\n",
      "0.346305634729\n",
      "emp_length.n/a\n",
      "Split on feature emp_length.n/a. (8901, 221)\n",
      "--------------------------------------------------------------------\n",
      "Subtree, depth = 3 (8901 data points).\n",
      "Reached maximum depth. Stopping for now.\n",
      "--------------------------------------------------------------------\n",
      "Subtree, depth = 3 (221 data points).\n",
      "Reached maximum depth. Stopping for now.\n",
      "--------------------------------------------------------------------\n",
      "Subtree, depth = 2 (101 data points).\n",
      "******** 101.0\n",
      "---------- 101\n",
      "======= 39\n",
      "39.0\n",
      "39.0\n",
      "0.386138613861\n",
      "---------- 101\n",
      "======= 39\n",
      "39.0\n",
      "39.0\n",
      "0.386138613861\n",
      "---------- 101\n",
      "======= 39\n",
      "39.0\n",
      "39.0\n",
      "0.386138613861\n",
      "---------- 101\n",
      "======= 39\n",
      "39.0\n",
      "39.0\n",
      "0.386138613861\n",
      "---------- 101\n",
      "======= 39\n",
      "39.0\n",
      "39.0\n",
      "0.386138613861\n",
      "---------- 101\n",
      "======= 39\n",
      "39.0\n",
      "39.0\n",
      "0.386138613861\n",
      "---------- 101\n",
      "======= 39\n",
      "39.0\n",
      "39.0\n",
      "0.386138613861\n",
      "---------- 36\n",
      "======= 16\n",
      "16.0\n",
      "39.0\n",
      "0.386138613861\n",
      "---------- 101\n",
      "======= 39\n",
      "39.0\n",
      "39.0\n",
      "0.386138613861\n",
      "---------- 91\n",
      "======= 36\n",
      "36.0\n",
      "39.0\n",
      "0.386138613861\n",
      "---------- 75\n",
      "======= 26\n",
      "26.0\n",
      "39.0\n",
      "0.386138613861\n",
      "---------- 97\n",
      "======= 37\n",
      "37.0\n",
      "39.0\n",
      "0.386138613861\n",
      "---------- 70\n",
      "======= 27\n",
      "27.0\n",
      "39.0\n",
      "0.386138613861\n",
      "---------- 93\n",
      "======= 37\n",
      "37.0\n",
      "39.0\n",
      "0.386138613861\n",
      "---------- 94\n",
      "======= 36\n",
      "36.0\n",
      "39.0\n",
      "0.386138613861\n",
      "---------- 95\n",
      "======= 37\n",
      "37.0\n",
      "39.0\n",
      "0.386138613861\n",
      "---------- 93\n",
      "======= 35\n",
      "35.0\n",
      "39.0\n",
      "0.386138613861\n",
      "---------- 93\n",
      "======= 36\n",
      "36.0\n",
      "39.0\n",
      "0.386138613861\n",
      "---------- 97\n",
      "======= 39\n",
      "39.0\n",
      "39.0\n",
      "0.386138613861\n",
      "---------- 93\n",
      "======= 38\n",
      "38.0\n",
      "39.0\n",
      "0.386138613861\n",
      "---------- 100\n",
      "======= 39\n",
      "39.0\n",
      "39.0\n",
      "0.386138613861\n",
      "---------- 90\n",
      "======= 33\n",
      "33.0\n",
      "38.0\n",
      "0.376237623762\n",
      "---------- 96\n",
      "======= 35\n",
      "35.0\n",
      "36.0\n",
      "0.356435643564\n",
      "emp_length.n/a\n",
      "Split on feature emp_length.n/a. (96, 5)\n",
      "--------------------------------------------------------------------\n",
      "Subtree, depth = 3 (96 data points).\n",
      "Reached maximum depth. Stopping for now.\n",
      "--------------------------------------------------------------------\n",
      "Subtree, depth = 3 (5 data points).\n",
      "Reached maximum depth. Stopping for now.\n",
      "Test failed... try again!\n",
      "Number of nodes found                : 15\n",
      "Number of nodes that should be there : 13\n"
     ]
    }
   ],
   "source": [
    "small_data_decision_tree = decision_tree_create(train_data, features, 'safe_loans', max_depth = 3)\n",
    "if count_nodes(small_data_decision_tree) == 13:\n",
    "    print 'Test passed!'\n",
    "else:\n",
    "    print 'Test failed... try again!'\n",
    "    print 'Number of nodes found                :', count_nodes(small_data_decision_tree)\n",
    "    print 'Number of nodes that should be there : 13' "
   ]
  },
  {
   "cell_type": "markdown",
   "metadata": {},
   "source": [
    "## Build the tree!\n",
    "\n",
    "Now that all the tests are passing, we will train a tree model on the **train_data**. Limit the depth to 6 (**max_depth = 6**) to make sure the algorithm doesn't run for too long. Call this tree **my_decision_tree**. \n",
    "\n",
    "**Warning**: This code block may take 1-2 minutes to learn. "
   ]
  },
  {
   "cell_type": "code",
   "execution_count": null,
   "metadata": {
    "collapsed": false
   },
   "outputs": [],
   "source": [
    "# Make sure to cap the depth at 6 by using max_depth = 6\n"
   ]
  },
  {
   "cell_type": "markdown",
   "metadata": {},
   "source": [
    "## Making predictions with a decision tree\n",
    "\n",
    "As discussed in the lecture, we can make predictions from the decision tree with a simple recursive function. Below, we call this function `classify`, which takes in a learned `tree` and a test point `x` to classify.  We include an option `annotate` that describes the prediction path when set to `True`.\n",
    "\n",
    "Fill in the places where you find `## YOUR CODE HERE`. There is **one** place in this function for you to fill in."
   ]
  },
  {
   "cell_type": "code",
   "execution_count": null,
   "metadata": {
    "collapsed": false
   },
   "outputs": [],
   "source": [
    "def classify(tree, x, annotate = False):   \n",
    "    # if the node is a leaf node.\n",
    "    if tree['is_leaf']:\n",
    "        if annotate: \n",
    "            print \"At leaf, predicting %s\" % tree['prediction']\n",
    "        return tree['prediction'] \n",
    "    else:\n",
    "        # split on feature.\n",
    "        split_feature_value = x[tree['splitting_feature']]\n",
    "        if annotate: \n",
    "            print \"Split on %s = %s\" % (tree['splitting_feature'], split_feature_value)\n",
    "        if split_feature_value == 0:\n",
    "            return classify(tree['left'], x, annotate)\n",
    "        else:\n",
    "               ### YOUR CODE HERE"
   ]
  },
  {
   "cell_type": "markdown",
   "metadata": {},
   "source": [
    "Now, let's consider the first example of the test set and see what `my_decision_tree` model predicts for this data point."
   ]
  },
  {
   "cell_type": "code",
   "execution_count": null,
   "metadata": {
    "collapsed": false
   },
   "outputs": [],
   "source": [
    "test_data[0]"
   ]
  },
  {
   "cell_type": "code",
   "execution_count": null,
   "metadata": {
    "collapsed": false
   },
   "outputs": [],
   "source": [
    "print 'Predicted class: %s ' % classify(my_decision_tree, test_data[0])"
   ]
  },
  {
   "cell_type": "markdown",
   "metadata": {},
   "source": [
    "Let's add some annotations to our prediction to see what the prediction path was that lead to this predicted class:"
   ]
  },
  {
   "cell_type": "code",
   "execution_count": null,
   "metadata": {
    "collapsed": false
   },
   "outputs": [],
   "source": [
    "classify(my_decision_tree, test_data[0], annotate=True)"
   ]
  },
  {
   "cell_type": "markdown",
   "metadata": {},
   "source": [
    "** Quiz Question:** What was the feature that **my_decision_tree** first split on while making the prediction for test_data[0]?"
   ]
  },
  {
   "cell_type": "markdown",
   "metadata": {},
   "source": [
    "** Quiz Question:** What was the first feature that lead to a right split of test_data[0]?"
   ]
  },
  {
   "cell_type": "markdown",
   "metadata": {},
   "source": [
    "** Quiz Question:** What was the last feature split on before reaching a leaf node for test_data[0]?"
   ]
  },
  {
   "cell_type": "markdown",
   "metadata": {},
   "source": [
    "## Evaluating your decision tree"
   ]
  },
  {
   "cell_type": "markdown",
   "metadata": {},
   "source": [
    "Now, we will write a function to evaluate a decision tree by computing the classification error of the tree on the given dataset.\n",
    "\n",
    "Again, recall that the **classification error** is defined as follows:\n",
    "$$\n",
    "\\mbox{classification error} = \\frac{\\mbox{# mistakes}}{\\mbox{# total examples}}\n",
    "$$\n",
    "\n",
    "Now, write a function called `evaluate_classification_error` that takes in as input:\n",
    "1. `tree` (as described above)\n",
    "2. `data` (an SFrame)\n",
    "3. `target` (a string - the name of the target/label column)\n",
    "\n",
    "This function should calculate a prediction (class label) for each row in `data` using the decision `tree` and return the classification error computed using the above formula. Fill in the places where you find `## YOUR CODE HERE`. There is **one** place in this function for you to fill in."
   ]
  },
  {
   "cell_type": "code",
   "execution_count": null,
   "metadata": {
    "collapsed": false
   },
   "outputs": [],
   "source": [
    "def evaluate_classification_error(tree, data, target):\n",
    "    # Apply the classify(tree, x) to each row in your data\n",
    "    prediction = data.apply(lambda x: classify(tree, x))\n",
    "    \n",
    "    # Once you've made the predictions, calculate the classification error and return it\n",
    "    ## YOUR CODE HERE\n",
    "    "
   ]
  },
  {
   "cell_type": "markdown",
   "metadata": {},
   "source": [
    "Now, let's use this function to evaluate the classification error on the test set."
   ]
  },
  {
   "cell_type": "code",
   "execution_count": null,
   "metadata": {
    "collapsed": false
   },
   "outputs": [],
   "source": [
    "evaluate_classification_error(my_decision_tree, test_data, target)"
   ]
  },
  {
   "cell_type": "markdown",
   "metadata": {},
   "source": [
    "**Quiz Question:** Rounded to 2nd decimal point, what is the classification error of **my_decision_tree** on the **test_data**?"
   ]
  },
  {
   "cell_type": "markdown",
   "metadata": {},
   "source": [
    "## Printing out a decision stump"
   ]
  },
  {
   "cell_type": "markdown",
   "metadata": {},
   "source": [
    "As discussed in the lecture, we can print out a single decision stump (printing out the entire tree is left as an exercise to the curious reader). "
   ]
  },
  {
   "cell_type": "code",
   "execution_count": null,
   "metadata": {
    "collapsed": false
   },
   "outputs": [],
   "source": [
    "def print_stump(tree, name = 'root'):\n",
    "    split_name = tree['splitting_feature'] # split_name is something like 'term. 36 months'\n",
    "    if split_name is None:\n",
    "        print \"(leaf, label: %s)\" % tree['prediction']\n",
    "        return None\n",
    "    split_feature, split_value = split_name.split('.')\n",
    "    print '                       %s' % name\n",
    "    print '         |---------------|----------------|'\n",
    "    print '         |                                |'\n",
    "    print '         |                                |'\n",
    "    print '         |                                |'\n",
    "    print '  [{0} == 0]               [{0} == 1]    '.format(split_name)\n",
    "    print '         |                                |'\n",
    "    print '         |                                |'\n",
    "    print '         |                                |'\n",
    "    print '    (%s)                         (%s)' \\\n",
    "        % (('leaf, label: ' + str(tree['left']['prediction']) if tree['left']['is_leaf'] else 'subtree'),\n",
    "           ('leaf, label: ' + str(tree['right']['prediction']) if tree['right']['is_leaf'] else 'subtree'))"
   ]
  },
  {
   "cell_type": "code",
   "execution_count": null,
   "metadata": {
    "collapsed": false
   },
   "outputs": [],
   "source": [
    "print_stump(my_decision_tree)"
   ]
  },
  {
   "cell_type": "markdown",
   "metadata": {},
   "source": [
    "**Quiz Question:** What is the feature that is used for the split at the root node?\n",
    "\n",
    "### Exploring the intermediate left subtree\n",
    "\n",
    "The tree is a recursive dictionary, so we do have access to all the nodes! We can use\n",
    "* `my_decision_tree['left']` to go left\n",
    "* `my_decision_tree['right']` to go right"
   ]
  },
  {
   "cell_type": "code",
   "execution_count": null,
   "metadata": {
    "collapsed": false
   },
   "outputs": [],
   "source": [
    "print_stump(my_decision_tree['left'], my_decision_tree['splitting_feature'])"
   ]
  },
  {
   "cell_type": "markdown",
   "metadata": {},
   "source": [
    "### Exploring the left subtree of the left subtree\n"
   ]
  },
  {
   "cell_type": "code",
   "execution_count": null,
   "metadata": {
    "collapsed": false
   },
   "outputs": [],
   "source": [
    "print_stump(my_decision_tree['left']['left'], my_decision_tree['left']['splitting_feature'])"
   ]
  },
  {
   "cell_type": "markdown",
   "metadata": {},
   "source": [
    "**Quiz Question:** What is the path of the **first 3 feature splits** considered along the **left-most** branch of **my_decision_tree**?"
   ]
  },
  {
   "cell_type": "markdown",
   "metadata": {},
   "source": [
    "**Quiz Question:** What is the path of the **first 3 feature splits** considered along the **right-most** branch of **my_decision_tree**?"
   ]
  },
  {
   "cell_type": "code",
   "execution_count": null,
   "metadata": {
    "collapsed": false
   },
   "outputs": [],
   "source": []
  }
 ],
 "metadata": {
  "kernelspec": {
   "display_name": "Python 2",
   "language": "python",
   "name": "python2"
  },
  "language_info": {
   "codemirror_mode": {
    "name": "ipython",
    "version": 2
   },
   "file_extension": ".py",
   "mimetype": "text/x-python",
   "name": "python",
   "nbconvert_exporter": "python",
   "pygments_lexer": "ipython2",
   "version": "2.7.12"
  }
 },
 "nbformat": 4,
 "nbformat_minor": 0
}
